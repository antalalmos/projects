{
 "cells": [
  {
   "cell_type": "markdown",
   "id": "51682b39-0c73-47ea-b2f8-1464374b5c32",
   "metadata": {},
   "source": [
    "# A Data Visualization Project About F1\n",
    "\n",
    "This project uses Python libraries (Pandas, Matplotlib) and an API (fastf1) to showcase lap data for a chosen race. \n",
    "\n",
    "Specifically, I create a graph, which displays the fastest lap time for each driver in a certain race, sorts it by intervals (difference from the pole lap), and highlights the drivers, who ranked the same on this graph as in the final results in the race.\n",
    " \n",
    "FastF1 Documentation: https://docs.fastf1.dev/"
   ]
  },
  {
   "cell_type": "markdown",
   "id": "046842a2-1a40-4df5-a80f-d1afdf33c5f8",
   "metadata": {},
   "source": [
    "## Imports and setting up API\n",
    "\n",
    "- I chose to analyse the 2024 British Grand Prix\n",
    "\n",
    "- It is possible to change cache library, however I opted to use the default library in this project "
   ]
  },
  {
   "cell_type": "code",
   "execution_count": 1,
   "id": "e9f6b0b9-ffd2-4c55-8f55-82423258e6df",
   "metadata": {},
   "outputs": [],
   "source": [
    "import pandas as pd\n",
    "import matplotlib.pyplot as plt\n",
    "from timple.timedelta import strftimedelta\n",
    "\n",
    "import fastf1\n",
    "import fastf1.plotting\n",
    "from fastf1.core import Laps\n",
    "\n",
    "fastf1.plotting.setup_mpl(mpl_timedelta_support=True, misc_mpl_mods=False, color_scheme=None)"
   ]
  },
  {
   "cell_type": "code",
   "execution_count": 2,
   "id": "a4f57009-958c-4a1c-a324-e0a542c3a196",
   "metadata": {},
   "outputs": [],
   "source": [
    "fastf1.Cache.clear_cache()"
   ]
  },
  {
   "cell_type": "code",
   "execution_count": 59,
   "id": "c1899f5c-049c-4f76-abf9-b2a37c795a01",
   "metadata": {},
   "outputs": [
    {
     "name": "stderr",
     "output_type": "stream",
     "text": [
      "core           INFO \tLoading data for British Grand Prix - Race [v3.5.3]\n",
      "req            INFO \tNo cached data found for session_info. Loading data...\n",
      "_api           INFO \tFetching session info data...\n",
      "req            INFO \tData has been written to cache!\n",
      "req            INFO \tNo cached data found for driver_info. Loading data...\n",
      "_api           INFO \tFetching driver list...\n",
      "req            INFO \tData has been written to cache!\n",
      "req            INFO \tNo cached data found for session_status_data. Loading data...\n",
      "_api           INFO \tFetching session status data...\n",
      "req            INFO \tData has been written to cache!\n",
      "req            INFO \tNo cached data found for lap_count. Loading data...\n",
      "_api           INFO \tFetching lap count data...\n",
      "req            INFO \tData has been written to cache!\n",
      "req            INFO \tNo cached data found for track_status_data. Loading data...\n",
      "_api           INFO \tFetching track status data...\n",
      "req            INFO \tData has been written to cache!\n",
      "req            INFO \tNo cached data found for _extended_timing_data. Loading data...\n",
      "_api           INFO \tFetching timing data...\n",
      "_api           INFO \tParsing timing data...\n",
      "req            INFO \tData has been written to cache!\n",
      "req            INFO \tNo cached data found for timing_app_data. Loading data...\n",
      "_api           INFO \tFetching timing app data...\n",
      "req            INFO \tData has been written to cache!\n",
      "core           INFO \tProcessing timing data...\n",
      "req            INFO \tNo cached data found for car_data. Loading data...\n",
      "_api           INFO \tFetching car data...\n",
      "_api           INFO \tParsing car data...\n",
      "_api        WARNING \tDriver 21: Car data is incomplete!\n",
      "_api        WARNING \tDriver  3: Car data is incomplete!\n",
      "req            INFO \tData has been written to cache!\n",
      "req            INFO \tNo cached data found for position_data. Loading data...\n",
      "_api           INFO \tFetching position data...\n",
      "_api           INFO \tParsing position data...\n",
      "_api        WARNING \tDriver 21: Position data is incomplete!\n",
      "_api        WARNING \tDriver  3: Position data is incomplete!\n",
      "req            INFO \tData has been written to cache!\n",
      "req            INFO \tNo cached data found for weather_data. Loading data...\n",
      "_api           INFO \tFetching weather data...\n",
      "req            INFO \tData has been written to cache!\n",
      "req            INFO \tNo cached data found for race_control_messages. Loading data...\n",
      "_api           INFO \tFetching race control messages...\n",
      "req            INFO \tData has been written to cache!\n",
      "core           INFO \tFinished loading data for 20 drivers: ['44', '1', '4', '81', '55', '27', '18', '14', '23', '22', '2', '20', '3', '16', '77', '31', '11', '24', '63', '10']\n"
     ]
    }
   ],
   "source": [
    "session = fastf1.get_session(2024, \"British Grand Prix\", \"R\")\n",
    "session.load()"
   ]
  },
  {
   "cell_type": "markdown",
   "id": "8a56c8d6-4c14-48b6-a43d-3b2896dda252",
   "metadata": {},
   "source": [
    "## Creating an array of the participating drivers"
   ]
  },
  {
   "cell_type": "code",
   "execution_count": 60,
   "id": "e6b3c850-6080-49dd-8ee8-ec77aeeb3af0",
   "metadata": {},
   "outputs": [
    {
     "data": {
      "text/plain": [
       "array(['HAM', 'VER', 'NOR', 'PIA', 'SAI', 'HUL', 'STR', 'ALO', 'ALB',\n",
       "       'TSU', 'SAR', 'MAG', 'RIC', 'LEC', 'BOT', 'OCO', 'PER', 'ZHO',\n",
       "       'RUS', 'GAS'], dtype=object)"
      ]
     },
     "execution_count": 60,
     "metadata": {},
     "output_type": "execute_result"
    }
   ],
   "source": [
    "drivers = pd.unique(session.laps[\"Driver\"])\n",
    "drivers\n",
    "\n"
   ]
  },
  {
   "cell_type": "markdown",
   "id": "cf09a2b5-8588-45e5-8ace-8dce9ebdc305",
   "metadata": {},
   "source": [
    "## Creating list of fastest laps\n",
    "\n",
    "- I picked the fastest lap for each driver (built-in function in API), filter Na, sort values\n",
    "\n",
    "- Picking pole lap\n",
    "\n",
    "- Creating \"LapTimeDelta\" (intervals) attribue"
   ]
  },
  {
   "cell_type": "code",
   "execution_count": 61,
   "id": "70ccce2a-f1f3-45f9-ae96-9d3fb08de500",
   "metadata": {},
   "outputs": [],
   "source": [
    "list_fastest_laps = list()\n",
    "\n",
    "for drv in drivers:\n",
    "    drivers_fastest = session.laps.pick_drivers(drv).pick_fastest()\n",
    "    # print(drivers_fastest[\"LapTime\"])\n",
    "    if drivers_fastest is not None and pd.notna(drivers_fastest[\"LapTime\"]):\n",
    "        list_fastest_laps.append(drivers_fastest)\n",
    "\n",
    "fastest_laps = Laps(list_fastest_laps).sort_values(\"LapTime\").reset_index(drop=True)"
   ]
  },
  {
   "cell_type": "code",
   "execution_count": 62,
   "id": "7f8341dd-5e10-4795-aa14-b15c20a10580",
   "metadata": {},
   "outputs": [
    {
     "data": {
      "text/html": [
       "<div>\n",
       "<style scoped>\n",
       "    .dataframe tbody tr th:only-of-type {\n",
       "        vertical-align: middle;\n",
       "    }\n",
       "\n",
       "    .dataframe tbody tr th {\n",
       "        vertical-align: top;\n",
       "    }\n",
       "\n",
       "    .dataframe thead th {\n",
       "        text-align: right;\n",
       "    }\n",
       "</style>\n",
       "<table border=\"1\" class=\"dataframe\">\n",
       "  <thead>\n",
       "    <tr style=\"text-align: right;\">\n",
       "      <th></th>\n",
       "      <th>Driver</th>\n",
       "      <th>LapTime</th>\n",
       "      <th>LapTimeDelta</th>\n",
       "    </tr>\n",
       "  </thead>\n",
       "  <tbody>\n",
       "    <tr>\n",
       "      <th>0</th>\n",
       "      <td>SAI</td>\n",
       "      <td>0 days 00:01:28.293000</td>\n",
       "      <td>0 days 00:00:00</td>\n",
       "    </tr>\n",
       "    <tr>\n",
       "      <th>1</th>\n",
       "      <td>PIA</td>\n",
       "      <td>0 days 00:01:28.748000</td>\n",
       "      <td>0 days 00:00:00.455000</td>\n",
       "    </tr>\n",
       "    <tr>\n",
       "      <th>2</th>\n",
       "      <td>VER</td>\n",
       "      <td>0 days 00:01:28.952000</td>\n",
       "      <td>0 days 00:00:00.659000</td>\n",
       "    </tr>\n",
       "    <tr>\n",
       "      <th>3</th>\n",
       "      <td>NOR</td>\n",
       "      <td>0 days 00:01:29.262000</td>\n",
       "      <td>0 days 00:00:00.969000</td>\n",
       "    </tr>\n",
       "    <tr>\n",
       "      <th>4</th>\n",
       "      <td>HAM</td>\n",
       "      <td>0 days 00:01:29.438000</td>\n",
       "      <td>0 days 00:00:01.145000</td>\n",
       "    </tr>\n",
       "    <tr>\n",
       "      <th>5</th>\n",
       "      <td>PER</td>\n",
       "      <td>0 days 00:01:29.707000</td>\n",
       "      <td>0 days 00:00:01.414000</td>\n",
       "    </tr>\n",
       "    <tr>\n",
       "      <th>6</th>\n",
       "      <td>ALO</td>\n",
       "      <td>0 days 00:01:29.710000</td>\n",
       "      <td>0 days 00:00:01.417000</td>\n",
       "    </tr>\n",
       "    <tr>\n",
       "      <th>7</th>\n",
       "      <td>ALB</td>\n",
       "      <td>0 days 00:01:29.718000</td>\n",
       "      <td>0 days 00:00:01.425000</td>\n",
       "    </tr>\n",
       "    <tr>\n",
       "      <th>8</th>\n",
       "      <td>LEC</td>\n",
       "      <td>0 days 00:01:29.748000</td>\n",
       "      <td>0 days 00:00:01.455000</td>\n",
       "    </tr>\n",
       "    <tr>\n",
       "      <th>9</th>\n",
       "      <td>HUL</td>\n",
       "      <td>0 days 00:01:29.836000</td>\n",
       "      <td>0 days 00:00:01.543000</td>\n",
       "    </tr>\n",
       "    <tr>\n",
       "      <th>10</th>\n",
       "      <td>STR</td>\n",
       "      <td>0 days 00:01:29.897000</td>\n",
       "      <td>0 days 00:00:01.604000</td>\n",
       "    </tr>\n",
       "    <tr>\n",
       "      <th>11</th>\n",
       "      <td>SAR</td>\n",
       "      <td>0 days 00:01:29.972000</td>\n",
       "      <td>0 days 00:00:01.679000</td>\n",
       "    </tr>\n",
       "    <tr>\n",
       "      <th>12</th>\n",
       "      <td>MAG</td>\n",
       "      <td>0 days 00:01:30.093000</td>\n",
       "      <td>0 days 00:00:01.800000</td>\n",
       "    </tr>\n",
       "    <tr>\n",
       "      <th>13</th>\n",
       "      <td>TSU</td>\n",
       "      <td>0 days 00:01:30.229000</td>\n",
       "      <td>0 days 00:00:01.936000</td>\n",
       "    </tr>\n",
       "    <tr>\n",
       "      <th>14</th>\n",
       "      <td>RIC</td>\n",
       "      <td>0 days 00:01:30.735000</td>\n",
       "      <td>0 days 00:00:02.442000</td>\n",
       "    </tr>\n",
       "    <tr>\n",
       "      <th>15</th>\n",
       "      <td>OCO</td>\n",
       "      <td>0 days 00:01:30.875000</td>\n",
       "      <td>0 days 00:00:02.582000</td>\n",
       "    </tr>\n",
       "    <tr>\n",
       "      <th>16</th>\n",
       "      <td>ZHO</td>\n",
       "      <td>0 days 00:01:31.014000</td>\n",
       "      <td>0 days 00:00:02.721000</td>\n",
       "    </tr>\n",
       "    <tr>\n",
       "      <th>17</th>\n",
       "      <td>BOT</td>\n",
       "      <td>0 days 00:01:31.277000</td>\n",
       "      <td>0 days 00:00:02.984000</td>\n",
       "    </tr>\n",
       "    <tr>\n",
       "      <th>18</th>\n",
       "      <td>RUS</td>\n",
       "      <td>0 days 00:01:31.298000</td>\n",
       "      <td>0 days 00:00:03.005000</td>\n",
       "    </tr>\n",
       "  </tbody>\n",
       "</table>\n",
       "</div>"
      ],
      "text/plain": [
       "   Driver                LapTime           LapTimeDelta\n",
       "0     SAI 0 days 00:01:28.293000        0 days 00:00:00\n",
       "1     PIA 0 days 00:01:28.748000 0 days 00:00:00.455000\n",
       "2     VER 0 days 00:01:28.952000 0 days 00:00:00.659000\n",
       "3     NOR 0 days 00:01:29.262000 0 days 00:00:00.969000\n",
       "4     HAM 0 days 00:01:29.438000 0 days 00:00:01.145000\n",
       "5     PER 0 days 00:01:29.707000 0 days 00:00:01.414000\n",
       "6     ALO 0 days 00:01:29.710000 0 days 00:00:01.417000\n",
       "7     ALB 0 days 00:01:29.718000 0 days 00:00:01.425000\n",
       "8     LEC 0 days 00:01:29.748000 0 days 00:00:01.455000\n",
       "9     HUL 0 days 00:01:29.836000 0 days 00:00:01.543000\n",
       "10    STR 0 days 00:01:29.897000 0 days 00:00:01.604000\n",
       "11    SAR 0 days 00:01:29.972000 0 days 00:00:01.679000\n",
       "12    MAG 0 days 00:01:30.093000 0 days 00:00:01.800000\n",
       "13    TSU 0 days 00:01:30.229000 0 days 00:00:01.936000\n",
       "14    RIC 0 days 00:01:30.735000 0 days 00:00:02.442000\n",
       "15    OCO 0 days 00:01:30.875000 0 days 00:00:02.582000\n",
       "16    ZHO 0 days 00:01:31.014000 0 days 00:00:02.721000\n",
       "17    BOT 0 days 00:01:31.277000 0 days 00:00:02.984000\n",
       "18    RUS 0 days 00:01:31.298000 0 days 00:00:03.005000"
      ]
     },
     "execution_count": 62,
     "metadata": {},
     "output_type": "execute_result"
    }
   ],
   "source": [
    "pole_lap = fastest_laps.pick_fastest()\n",
    "fastest_laps[\"LapTimeDelta\"] = fastest_laps[\"LapTime\"] - pole_lap[\"LapTime\"]\n",
    "\n",
    "fastest_laps[[\"Driver\", \"LapTime\", \"LapTimeDelta\"]]"
   ]
  },
  {
   "cell_type": "markdown",
   "id": "f292ccb0-cbee-487c-9d13-80d1cfa2015a",
   "metadata": {},
   "source": [
    "## Creating color map\n",
    "\n",
    "- Picks team color for each driver\n",
    "\n",
    "- If the index of the driver in the fastest_laps array is equal to the index of the driver in the final results, I assign a vivid lime green color"
   ]
  },
  {
   "cell_type": "code",
   "execution_count": 63,
   "id": "fd55f8a7-48c8-4445-ae9c-c158afb77091",
   "metadata": {},
   "outputs": [
    {
     "name": "stderr",
     "output_type": "stream",
     "text": [
      "req            INFO \tUsing cached data for driver_info\n"
     ]
    }
   ],
   "source": [
    "team_colors = list()\n",
    "\n",
    "for index, lap in fastest_laps.iterlaps():\n",
    "    if (session.results.iloc[index][\"Abbreviation\"] == lap[\"Driver\"]):\n",
    "        color = \"#13d91d\"\n",
    "    else:\n",
    "        color = fastf1.plotting.get_team_color(lap[\"Team\"], session=session)\n",
    "    team_colors.append(color)"
   ]
  },
  {
   "cell_type": "markdown",
   "id": "8967e361-889e-46bd-8e07-38f5cf47508c",
   "metadata": {},
   "source": [
    "## Displaying graph\n",
    "\n",
    "- Horizontal bar chart\n",
    "\n",
    "- Highlighting bars, that have been assigned the specific green color\n",
    "\n",
    "- Lables, title"
   ]
  },
  {
   "cell_type": "code",
   "execution_count": 64,
   "id": "97c68a2b-29a2-47f8-96c6-2a1b3ab15ca7",
   "metadata": {},
   "outputs": [
    {
     "data": {
      "image/png": "[encoded data removed]",
      "text/plain": [
       "<Figure size 1200x600 with 1 Axes>"
      ]
     },
     "metadata": {},
     "output_type": "display_data"
    }
   ],
   "source": [
    "fig, ax = plt.subplots(figsize=(12, 6))\n",
    "\n",
    "bars = ax.barh(fastest_laps.index, fastest_laps[\"LapTimeDelta\"], color=team_colors, edgecolor=\"grey\")\n",
    "for bar, facecolor in zip(bars, team_colors):\n",
    "    if facecolor == \"#13d91d\":\n",
    "        bar.set_edgecolor(\"black\")\n",
    "        bar.set_linewidth(2.5)\n",
    "        # bar.set_mouseover(True)\n",
    "    # else:\n",
    "    #     bar.set_edgecolor(\"grey\")\n",
    "    #     bar.set_linewidth(1)\n",
    "\n",
    "ax.set_yticks(fastest_laps.index)\n",
    "ax.set_yticklabels(fastest_laps[\"Driver\"])\n",
    "\n",
    "\n",
    "ax.invert_yaxis()\n",
    "\n",
    "# max_delta = fastest_laps[\"LapTimeDelta\"].max()\n",
    "# ax.set_xlim(0, max_delta * 1.05)\n",
    "\n",
    "ax.set_axisbelow(True)\n",
    "ax.xaxis.grid(True, linestyle=\"--\", color=\"black\")\n",
    "\n",
    "ax.margins(x=0.25)\n",
    "\n",
    "lap_time_string = strftimedelta(pole_lap[\"LapTime\"], \"%m:%s.%ms\")\n",
    "\n",
    "plt.suptitle(f\"{session.event[\"EventName\"]} {session.event.year} Race\\n\"\n",
    "                f\"Fastest Lap: {lap_time_string} ({pole_lap[\"Driver\"]})\")\n",
    "\n",
    "# plt.show()\n",
    "plt.savefig(r\"images\\brit2024\")"
   ]
  },
  {
   "cell_type": "markdown",
   "id": "f860f6e1-7dfe-4abf-97b5-ffff32a58715",
   "metadata": {},
   "source": [
    "**Thanks to theOehrly for creating this API**"
   ]
  }
 ],
 "metadata": {
  "kernelspec": {
   "display_name": "Python 3 (ipykernel)",
   "language": "python",
   "name": "python3"
  },
  "language_info": {
   "codemirror_mode": {
    "name": "ipython",
    "version": 3
   },
   "file_extension": ".py",
   "mimetype": "text/x-python",
   "name": "python",
   "nbconvert_exporter": "python",
   "pygments_lexer": "ipython3",
   "version": "3.13.2"
  }
 },
 "nbformat": 4,
 "nbformat_minor": 5
}
